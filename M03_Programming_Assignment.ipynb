{
 "cells": [
  {
   "cell_type": "code",
   "execution_count": 5,
   "metadata": {},
   "outputs": [
    {
     "name": "stdout",
     "output_type": "stream",
     "text": [
      "mozzarella\n",
      "Cinderella\n",
      "salmonella\n",
      "\n",
      "\n",
      "MOZZARELLA\n",
      "Cinderella\n",
      "salmonella\n",
      "\n",
      "\n",
      "MOZZARELLA\n",
      "Cinderella\n",
      "Nobel Prize\n"
     ]
    }
   ],
   "source": [
    "things = [\"mozzarella\", \"cinderella\", \"salmonella\"]\n",
    "things[1] = things[1].capitalize()\n",
    "for x in things:\n",
    "    print(x)\n",
    "print(\"\\n\") #spacing\n",
    "things[0] = things[0].upper()\n",
    "for x in things:\n",
    "    print(x)\n",
    "print(\"\\n\") #spacing\n",
    "things.remove(\"salmonella\")\n",
    "things.append(\"Nobel Prize\")\n",
    "for x in things:\n",
    "    print(x)"
   ]
  },
  {
   "cell_type": "code",
   "execution_count": 13,
   "metadata": {},
   "outputs": [
    {
     "name": "stdout",
     "output_type": "stream",
     "text": [
      "['Harry', 'Ron', 'Hermione']\n",
      "\n",
      "5\n",
      "[1, 3, 5, 7, 9]\n"
     ]
    }
   ],
   "source": [
    "def good():\n",
    "    wizards = [\"Harry\", \"Ron\", \"Hermione\"]\n",
    "    return wizards\n",
    "\n",
    "\n",
    "def get_odds():\n",
    "    oddnumbers = []\n",
    "    for x in range(10):\n",
    "        if x%2 == 1:\n",
    "            oddnumbers.append(x)\n",
    "    print(oddnumbers[2])\n",
    "    return oddnumbers\n",
    "\n",
    "print(good())\n",
    "print() #spacing\n",
    "print(str(get_odds()))"
   ]
  }
 ],
 "metadata": {
  "kernelspec": {
   "display_name": "Python 3",
   "language": "python",
   "name": "python3"
  },
  "language_info": {
   "codemirror_mode": {
    "name": "ipython",
    "version": 3
   },
   "file_extension": ".py",
   "mimetype": "text/x-python",
   "name": "python",
   "nbconvert_exporter": "python",
   "pygments_lexer": "ipython3",
   "version": "3.11.9"
  }
 },
 "nbformat": 4,
 "nbformat_minor": 2
}
