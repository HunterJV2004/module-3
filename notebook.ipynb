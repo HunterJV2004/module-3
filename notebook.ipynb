{
 "cells": [
  {
   "cell_type": "markdown",
   "metadata": {},
   "source": [
    "I've completed both of these assignments in the past but in a different class (youtube video of my past submission)\n",
    "https://www.youtube.com/watch?v=5MRZ0tf9vD4 "
   ]
  },
  {
   "cell_type": "code",
   "execution_count": 1,
   "metadata": {},
   "outputs": [],
   "source": [
    "class Solution:\n",
    "    def sort012(self,arr,n):\n",
    "        low = 0\n",
    "        current = 0 #the currently being sorted index\n",
    "        high = n - 1\n",
    "        while current <= high:\n",
    "            if arr[current] == 0:\n",
    "                arr[low], arr[current] = arr[current], arr[low] #swap low pointer with current pointer\n",
    "                current = current + 1\n",
    "            elif arr[current] == 1:\n",
    "                current = current + 1\n",
    "            else:\n",
    "                arr[high], arr[current] = arr[current], arr[high] #swap high pointer with current pointer\n",
    "                high = high - 1\n",
    "#logic - swap the places of 2s and 0s until all 1s are left in the middle between 0s and 2s"
   ]
  },
  {
   "cell_type": "code",
   "execution_count": null,
   "metadata": {},
   "outputs": [],
   "source": [
    "class Solution:    \n",
    "    def binarysearch(self, arr, n, k):\n",
    "        first = 0\n",
    "        last = n - 1\n",
    "        while first<=last:\n",
    "            mid = (first+last)//2\n",
    "            if arr[mid] == k:\n",
    "                return mid\n",
    "            else:\n",
    "                if k < arr[mid]:\n",
    "                    last = mid - 1\n",
    "                else:\n",
    "                    first = mid + 1\n",
    "        return -1"
   ]
  }
 ],
 "metadata": {
  "kernelspec": {
   "display_name": "Python 3",
   "language": "python",
   "name": "python3"
  },
  "language_info": {
   "codemirror_mode": {
    "name": "ipython",
    "version": 3
   },
   "file_extension": ".py",
   "mimetype": "text/x-python",
   "name": "python",
   "nbconvert_exporter": "python",
   "pygments_lexer": "ipython3",
   "version": "3.11.9"
  }
 },
 "nbformat": 4,
 "nbformat_minor": 2
}
